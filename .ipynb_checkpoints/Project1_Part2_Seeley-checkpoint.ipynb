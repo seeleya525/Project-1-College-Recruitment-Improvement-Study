{
 "cells": [
  {
   "cell_type": "markdown",
   "id": "9ed0a051-67e6-4f81-8b3f-b85858966930",
   "metadata": {},
   "source": [
    "### Andrew Seeley\n",
    "### Oct. 2, 2024\n",
    "#### Professor Nancy Binowski\n",
    "#### Project 1, Part 2: Data Exploration and Cleaning\n",
    "This project is intended to practice visualizing, exploring, and cleaning datasets with the IT Department's survey results."
   ]
  },
  {
   "cell_type": "markdown",
   "id": "bd910c03-d97c-49ac-b4f5-81c689054084",
   "metadata": {},
   "source": [
    "### Importing and Viewing the Dataset"
   ]
  },
  {
   "cell_type": "code",
   "execution_count": null,
   "id": "f0756992-3a2b-4b1d-8d85-96caff164077",
   "metadata": {},
   "outputs": [],
   "source": [
    "import pandas as pd\n",
    "datafile = \"Majors Survey Results - Fall 2024.csv\"\n",
    "df = pd.read_csv(datafile, parse_dates=True)"
   ]
  },
  {
   "cell_type": "markdown",
   "id": "d1069795-3ecc-4105-95e2-c824f9e73c40",
   "metadata": {},
   "source": [
    "#### The dataset will be messy to start with:"
   ]
  },
  {
   "cell_type": "code",
   "execution_count": null,
   "id": "6ea682bc-a7e7-42d1-992f-fb8b90d84444",
   "metadata": {},
   "outputs": [],
   "source": [
    "df"
   ]
  },
  {
   "cell_type": "markdown",
   "id": "4d804d78-39ea-49e4-80e9-e12518c514f7",
   "metadata": {},
   "source": [
    "#### Functions such as describe(), info(), and shape describe the general attributes of the dataset:"
   ]
  },
  {
   "cell_type": "code",
   "execution_count": null,
   "id": "1388fa3f-f3e9-4d38-a642-129f4df8038d",
   "metadata": {},
   "outputs": [],
   "source": [
    "df.describe()"
   ]
  },
  {
   "cell_type": "code",
   "execution_count": null,
   "id": "9a11087c-4816-4d63-be8f-0bb244233bb3",
   "metadata": {},
   "outputs": [],
   "source": [
    "df.info()"
   ]
  },
  {
   "cell_type": "code",
   "execution_count": null,
   "id": "b5b0da51-a347-4705-8cd3-3e23e0eb3473",
   "metadata": {},
   "outputs": [],
   "source": [
    "df.shape"
   ]
  },
  {
   "cell_type": "markdown",
   "id": "2a44025b-c62d-45ed-9dd4-dde5a6dce05c",
   "metadata": {},
   "source": [
    "#### Functions such as columns and dtypes will list and describe the attributes of each column:"
   ]
  },
  {
   "cell_type": "code",
   "execution_count": null,
   "id": "42719bd4-5a44-44e1-8be3-5713aa33ae92",
   "metadata": {},
   "outputs": [],
   "source": [
    "df.columns"
   ]
  },
  {
   "cell_type": "code",
   "execution_count": 72,
   "id": "0406ecd4-5da0-4ff0-a0d2-f1bf6c4e70d0",
   "metadata": {},
   "outputs": [
    {
     "data": {
      "text/plain": [
       "Timestamp                                                                                                                                               object\n",
       "Which course are you enrolled in?                                                                                                                       object\n",
       "How did you hear about County College of Morris? [CCM Web site]                                                                                         object\n",
       "How did you hear about County College of Morris? [Social Media]                                                                                         object\n",
       "How did you hear about County College of Morris? [Community Event]                                                                                      object\n",
       "                                                                                                                                                        ...   \n",
       "On a scale of 1 to 5, with 1 being not at all interested and 5 being extremely interested, how interested are you in taking more computing classes?    float64\n",
       "Please explain your answer to the question above.  Why or why not would you be interested in taking another computing class?                            object\n",
       "gender                                                                                                                                                  object\n",
       "ethnicity                                                                                                                                               object\n",
       "age                                                                                                                                                     object\n",
       "Length: 90, dtype: object"
      ]
     },
     "execution_count": 72,
     "metadata": {},
     "output_type": "execute_result"
    }
   ],
   "source": [
    "df.dtypes"
   ]
  },
  {
   "cell_type": "markdown",
   "id": "88b888d3-fa6d-4b20-9a5f-e7aff63cd145",
   "metadata": {},
   "source": [
    "#### Functions such as head(), tail(), and sample() will show a smaller portion of the dataset:"
   ]
  },
  {
   "cell_type": "code",
   "execution_count": null,
   "id": "12d30006-bc06-4eec-bf74-3d701b225629",
   "metadata": {},
   "outputs": [],
   "source": [
    "df.head()"
   ]
  },
  {
   "cell_type": "code",
   "execution_count": null,
   "id": "0d10d322-e929-4b70-9972-6ccab38f7487",
   "metadata": {},
   "outputs": [],
   "source": [
    "df.tail()"
   ]
  },
  {
   "cell_type": "code",
   "execution_count": null,
   "id": "9082a1c2-4845-4d26-b4fd-9e212e9d6108",
   "metadata": {},
   "outputs": [],
   "source": [
    "df.sample()"
   ]
  },
  {
   "cell_type": "markdown",
   "id": "5d6595bb-0339-4335-afa4-6079e213732a",
   "metadata": {},
   "source": [
    "### Initial Cleaning Operations"
   ]
  },
  {
   "cell_type": "markdown",
   "id": "0d0038e5-c532-4392-86e6-8910e6d95c1b",
   "metadata": {},
   "source": [
    "#### Many of the column names are wordy and need to be shortened."
   ]
  },
  {
   "cell_type": "code",
   "execution_count": null,
   "id": "a58e72ec-b0d9-4014-b50f-1d8c3d7c5adf",
   "metadata": {},
   "outputs": [],
   "source": [
    "df.rename(\n",
    "    columns=({ 'Prior to applying to college, did you participate in any of the following events or activities at the County College of Morris and/or with the Department of Information Technologies, if at all? [Open House]' : 'open_house',\n",
    "       'Prior to applying to college, did you participate in any of the following events or activities at the County College of Morris and/or with the Department of Information Technologies, if at all? [Instant Decision Day]' : 'inst_dec_day',\n",
    "       'Prior to applying to college, did you participate in any of the following events or activities at the County College of Morris and/or with the Department of Information Technologies, if at all? [On-Campus Information Session]' : 'campus_info_ses',\n",
    "       'Prior to applying to college, did you participate in any of the following events or activities at the County College of Morris and/or with the Department of Information Technologies, if at all? [Titans Tuesday (Virtual) Information Session]' : 'virt_info_ses',\n",
    "       'Prior to applying to college, did you participate in any of the following events or activities at the County College of Morris and/or with the Department of Information Technologies, if at all? [Women Who Dare]' : 'women_who_dare',\n",
    "       'Prior to applying to college, did you participate in any of the following events or activities at the County College of Morris and/or with the Department of Information Technologies, if at all? [Regional College Fair]' : 'college_fair',\n",
    "       'Prior to applying to college, did you participate in any of the following events or activities at the County College of Morris and/or with the Department of Information Technologies, if at all? [HS Sharetime Information Session]' : 'hs_sharetime',\n",
    "       'Prior to applying to college, did you participate in any of the following events or activities at the County College of Morris and/or with the Department of Information Technologies, if at all? [Challenger Program]' : 'challenger',\n",
    "       'Prior to applying to college, did you participate in any of the following events or activities at the County College of Morris and/or with the Department of Information Technologies, if at all? [CyberSecurity Information Protection Program Participation ]' : 'cybersec_info_prot_prog',\n",
    "       'Prior to applying to college, did you participate in any of the following events or activities at the County College of Morris and/or with the Department of Information Technologies, if at all? [Information Session at my high school]' : 'hs_info_ses',\n",
    "       'Prior to applying to college, did you participate in any of the following events or activities at the County College of Morris and/or with the Department of Information Technologies, if at all? [Campus Visit with my high school]' : 'hs_campus_visit',\n",
    "       'Prior to applying to college, did you participate in any of the following events or activities at the County College of Morris and/or with the Department of Information Technologies, if at all? [Campus Visit (individual)]' : 'indiv_campus_visit',\n",
    "       'Prior to applying to college, did you participate in any of the following events or activities at the County College of Morris and/or with the Department of Information Technologies, if at all? [Workforce Development class]' : 'wfd_class',\n",
    "       'Prior to applying to college, did you participate in any of the following events or activities at the County College of Morris and/or with the Department of Information Technologies, if at all? [Corporate Training]' : 'corp_training',\n",
    "       'Prior to applying to college, did you participate in any of the following events or activities at the County College of Morris and/or with the Department of Information Technologies, if at all? [Teen Arts Festival]' : 'teen_arts',\n",
    "       'Prior to applying to college, did you participate in any of the following events or activities at the County College of Morris and/or with the Department of Information Technologies, if at all? [Summer camp at CCM]' : 'ccm_summer_camp',\n",
    "        'To what extent did the following activities or experience impact your decision to enroll in an computing course at CCM? [Middle/High school computing class]' : 'prev_comp_class_impact',\n",
    "       'To what extent did the following activities or experience impact your decision to enroll in an computing course at CCM? [Middle/High school computing related club]' : 'comp_club_impact',\n",
    "       'To what extent did the following activities or experience impact your decision to enroll in an computing course at CCM? [Computing-related competitions (e.g., Robotics competition, Lego competition, Cybersecurity, Programming)]' : 'comp_competition_impact',\n",
    "       'To what extent did the following activities or experience impact your decision to enroll in an computing course at CCM? [Afterschool computing-related camp/program]' : 'after_school_camp_impact',\n",
    "       'To what extent did the following activities or experience impact your decision to enroll in an computing course at CCM? [Summer computing related camp/program]' : 'summer_camp_impact',\n",
    "       'To what extent did the following activities or experience impact your decision to enroll in an computing course at CCM? [An AP computing class]' : 'ap_class_impact',\n",
    "       'To what extent did the following activities or experience impact your decision to enroll in an computing course at CCM? [A dual enrollment computing class]' : 'dual_enr_impact',\n",
    "       'To what extent did the following activities or experience impact your decision to enroll in an computing course at CCM? [Family or friend influence]' : 'fam_friend_impact',\n",
    "       'To what extent did the following activities or experience impact your decision to enroll in an computing course at CCM? [Family or friend working in the computing field]' : 'fam_friend_infield_impact',\n",
    "       'To what extent did the following activities or experience impact your decision to enroll in an computing course at CCM? [High school teacher or guidance counselor]' : 'teacher_counselor_impact',\n",
    "       'To what extent did the following activities or experience impact your decision to enroll in an computing course at CCM? [Employer influence]' : 'employer_impact',\n",
    "       'To what extent did the following activities or experience impact your decision to enroll in an computing course at CCM? [Current CCM student]' : 'curr_stud_impact',\n",
    "       'To what extent did the following activities or experience impact your decision to enroll in an computing course at CCM? [Experience at work]' : 'work_exp_impact',\n",
    "       'To what extent did the following activities or experience impact your decision to enroll in an computing course at CCM? [Other]' : 'other_impact',\n",
    "       'What degree program are you currently enrolled in?' : 'degree',\n",
    "       'What motivated you to seek a computing degree/certificate at CCM?  [To get a job in the computing field]' : 'tech_job_motive',\n",
    "       'What motivated you to seek a computing degree/certificate at CCM?  [Transfer to bachelor\\'s level program]' : 'bach_motive',\n",
    "       'What motivated you to seek a computing degree/certificate at CCM?  [Transfer credits back to HS degree (ShareTime, Challenger Program)]' : 'hs_cred_motive',\n",
    "       'What motivated you to seek a computing degree/certificate at CCM?  [Career Advancement]' : 'career_adv_motive',\n",
    "       'What motivated you to seek a computing degree/certificate at CCM?  [Career Change]' : 'career_change_motive',\n",
    "       'What motivated you to seek a computing degree/certificate at CCM?  [Professional Development]' : 'prof_dev_motive',\n",
    "       'What motivated you to seek a computing degree/certificate at CCM?  [Job Displacement]' : 'job_displacement_motive',\n",
    "       'What motivated you to seek a computing degree/certificate at CCM?  [Relocation]' : 'relo_motive',\n",
    "       'What motivated you to seek a computing degree/certificate at CCM?  [To keep current in tech industry]' : 'keep_curr_motive',\n",
    "       'What motivated you to seek a computing degree/certificate at CCM?  [IT Industry Certifications]' : 'it_cert_motive',\n",
    "       'What motivated you to seek a computing degree/certificate at CCM?  [Financial]' : 'financial_motive',\n",
    "       'What motivated you to seek a computing degree/certificate at CCM?  [Personal Enrichment]' : 'pers_enrich_motive',\n",
    "       'Did you receive information about the CCM computing programs from any of the following sources? [High school guidance counselor]' : 'heard_from_counselor',\n",
    "       'Did you receive information about the CCM computing programs from any of the following sources? [High School Teacher]' : 'heard_from_teacher',\n",
    "       'Did you receive information about the CCM computing programs from any of the following sources? [CCM Information Technologies Website]' : 'heard_from_it_site',\n",
    "       'Did you receive information about the CCM computing programs from any of the following sources? [CCM Admissions]' : 'heard_from_admissions',\n",
    "       'Did you receive information about the CCM computing programs from any of the following sources? [CCM advisor/counselor]' : 'heard_from_advisor',\n",
    "       'Did you receive information about the CCM computing programs from any of the following sources? [Employer]' : 'heard_from_employer',\n",
    "       'Did you receive information about the CCM computing programs from any of the following sources? [CCM Workforce Development]' : 'heard_from_ccm_wfd',\n",
    "       'Did you receive information about the CCM computing programs from any of the following sources? [NJ Workforce Development Program]' : 'heard_from_nj_wfd',\n",
    "       'Did you receive information about the CCM computing programs from any of the following sources? [Other]' : 'heard_from_other',\n",
    "       'Was a computing major/certificate your first choice, or did you change majors from a different CCM program? If you changed majors, indicate what your first major was.' : 'deg_before_it',\n",
    "       'Age ' : 'age',\n",
    "       'Race/ethnicity' : 'ethnicity',\n",
    "       'Gender' : 'gender'\n",
    "                }), \n",
    "    inplace=True,\n",
    ")"
   ]
  },
  {
   "cell_type": "code",
   "execution_count": null,
   "id": "3aec1e25-f7e4-4b1d-a19e-e0fb8c9afd22",
   "metadata": {},
   "outputs": [],
   "source": [
    "df.columns #We can now confirm that the column names were changed"
   ]
  },
  {
   "cell_type": "markdown",
   "id": "cc97671c-297c-4ce6-88db-e4e58065636f",
   "metadata": {},
   "source": [
    "#### Next, we can condense some values to simplify our analysis, such as changing all variations of engineering majors to simply, 'Engineering'."
   ]
  },
  {
   "cell_type": "code",
   "execution_count": null,
   "id": "badb06d0-1ae3-4133-937f-214ac80970d0",
   "metadata": {},
   "outputs": [],
   "source": [
    "df.degree.unique() #The unqiue() functions helps us see all the variations we need to fix."
   ]
  },
  {
   "cell_type": "code",
   "execution_count": null,
   "id": "170cb6e5-c752-4d3a-b376-17621fd6261b",
   "metadata": {},
   "outputs": [],
   "source": [
    "df.replace('Mechanical Engineering Technologies ','Engineering', inplace=True)\n",
    "df.replace('Mechanical Engineering','Engineering', inplace=True)\n",
    "df.replace('electrical engineering technology','Engineering', inplace=True)\n",
    "df.replace('Electronical Engineer','Engineering', inplace=True)\n",
    "df.replace('electrical engineering  ','Engineering', inplace=True)\n",
    "df.replace('Mechanical engineering technology ','Engineering', inplace=True)\n",
    "df.replace('Electronics Technolgies Engineering','Engineering', inplace=True)\n",
    "df.replace('mechanical engineering','Engineering', inplace=True)\n",
    "df.replace('MET','Engineering', inplace=True)\n",
    "df.replace('Engineering Science / Mechanical Engineering Technology','Engineering', inplace=True)\n",
    "df.replace('Mechanical Technology','Engineering', inplace=True)\n",
    "df.replace('Mechanical Engineering Tech','Engineering', inplace=True)\n",
    "df.replace('Mechanical Engineering Technology','Engineering', inplace=True)\n",
    "df.replace('Mechanical Engineering Technologist','Engineering', inplace=True)\n",
    "df.replace('Electrical Engineering w/ biomed option','Engineering', inplace=True)\n",
    "df.replace('Mechanical engineering technology','Engineering', inplace=True)\n",
    "df.replace('Mech e','Engineering', inplace=True)\n",
    "df.replace('Mech E','Engineering', inplace=True)"
   ]
  },
  {
   "cell_type": "markdown",
   "id": "f795f489-5b9d-47cf-8138-ee4b0956fa17",
   "metadata": {},
   "source": [
    "#### Now we can do the same for the other majors."
   ]
  },
  {
   "cell_type": "code",
   "execution_count": null,
   "id": "2e0ce784-404a-48b6-aca6-ab0b2c19032b",
   "metadata": {},
   "outputs": [],
   "source": [
    "df.replace('Business Admin','Business', inplace=True)\n",
    "df.replace('Business Administration','Business', inplace=True)\n",
    "df.replace('business','Business', inplace=True)\n",
    "df.replace('Business ','Business', inplace=True)\n",
    "df.replace('business administration','Business', inplace=True)\n",
    "df.replace('Business Administration ','Business', inplace=True)"
   ]
  },
  {
   "cell_type": "code",
   "execution_count": null,
   "id": "00c3bf02-51d3-4744-b7e8-ee7e92c95f87",
   "metadata": {},
   "outputs": [],
   "source": [
    "df.replace('data science','Data Science', inplace=True)\n",
    "df.replace('Computer Science (Data Science Option)','Data Science', inplace=True)\n",
    "df.replace('Data science','Data Science', inplace=True)"
   ]
  },
  {
   "cell_type": "code",
   "execution_count": null,
   "id": "6b95167c-16d0-4698-a9cc-9a95fc2b9509",
   "metadata": {},
   "outputs": [],
   "source": [
    "df.replace('cybersecurity','Cybersecurity', inplace=True)\n",
    "df.replace('cyberseucirty','Cybersecurity', inplace=True)"
   ]
  },
  {
   "cell_type": "code",
   "execution_count": null,
   "id": "18f8519b-97fd-4e9c-9aa3-8014a220a181",
   "metadata": {},
   "outputs": [],
   "source": [
    "df.replace('CIS Game Development Option','Game Development', inplace=True)"
   ]
  },
  {
   "cell_type": "code",
   "execution_count": null,
   "id": "dedeebb3-2551-4aba-9772-496ea495e629",
   "metadata": {},
   "outputs": [],
   "source": [
    "df.replace('Information Technology & Info Security Certificate','Information Technology', inplace=True)"
   ]
  },
  {
   "cell_type": "code",
   "execution_count": null,
   "id": "a911be5d-1fed-42de-8f57-af415011b1d0",
   "metadata": {},
   "outputs": [],
   "source": [
    "df.replace('Digital Media Technology','Graphic Design', inplace=True)\n",
    "df.replace('graphic arts','Graphic Design', inplace=True)"
   ]
  },
  {
   "cell_type": "code",
   "execution_count": 74,
   "id": "244aa213-ab92-40d2-9050-eaa854e91a60",
   "metadata": {},
   "outputs": [
    {
     "data": {
      "text/plain": [
       "array(['Engineering', 'Game Development', 'Computer Science', 'Undecided',\n",
       "       'Business', 'Technical Studies, Applied Associate of Science',\n",
       "       'Information Security Certificate of Achievement', 'Liberal Arts',\n",
       "       'Information Technology', 'Non Degree seeking', 'Cybersecurity',\n",
       "       'ShareTime CSIP Program', 'Challenger Program', 'Data Science',\n",
       "       'High School', 'Fire Science Technology',\n",
       "       'Data Analytics Certificate of Achievement', 'Chemistry',\n",
       "       'Graphic Design', 'Communications',\n",
       "       'Associates of Fine Arts Concentration Architecture',\n",
       "       'Web Development Certificate of Achievement'], dtype=object)"
      ]
     },
     "execution_count": 74,
     "metadata": {},
     "output_type": "execute_result"
    }
   ],
   "source": [
    "df.degree.unique() #We can now confirm that the values have been condensed into fewer common terms."
   ]
  },
  {
   "cell_type": "markdown",
   "id": "7390f5c9-ea19-463c-815b-5c2cadada50a",
   "metadata": {},
   "source": [
    "#### We can relabel answers to the Race/Ethnicity question so that any row with multiple options selected simply reads 'Multi-Racial'."
   ]
  },
  {
   "cell_type": "code",
   "execution_count": null,
   "id": "e41ffae0-8ea5-4239-98e7-880fe9b4c067",
   "metadata": {},
   "outputs": [],
   "source": [
    "mask = df['ethnicity'].str.contains(';') #Searching for any responses with ';' only includes those where multiple races were selected.\n",
    "df.loc[mask, 'ethnicity'] = 'Multi-Racial' #Use the loc function to replace with 'Multi-Racial'."
   ]
  },
  {
   "cell_type": "code",
   "execution_count": null,
   "id": "73101e39-2f7e-4ec5-805a-daa9f96b1c90",
   "metadata": {},
   "outputs": [],
   "source": [
    "df.ethnicity.unique()"
   ]
  },
  {
   "cell_type": "markdown",
   "id": "f3a3f42d-62cd-4fc2-a4d1-24d487079964",
   "metadata": {},
   "source": [
    "#### Now, we can subset the columns we need so we don't have to look at the irrelevant data."
   ]
  },
  {
   "cell_type": "code",
   "execution_count": null,
   "id": "5b48faaa-8ff0-40d5-b637-a1f6e02347ad",
   "metadata": {},
   "outputs": [],
   "source": [
    "df2 = df[['open_house', 'inst_dec_day', 'campus_info_ses', 'virt_info_ses',\n",
    "       'women_who_dare', 'college_fair', 'hs_sharetime', 'challenger',\n",
    "       'cybersec_info_prot_prog', 'hs_info_ses', 'hs_campus_visit',\n",
    "       'indiv_campus_visit', 'wfd_class', 'corp_training', 'teen_arts',\n",
    "       'ccm_summer_camp', 'prev_comp_class_impact', 'comp_club_impact',\n",
    "       'comp_competition_impact', 'after_school_camp_impact',\n",
    "       'summer_camp_impact', 'ap_class_impact', 'dual_enr_impact',\n",
    "       'fam_friend_impact', 'fam_friend_infield_impact',\n",
    "       'teacher_counselor_impact', 'employer_impact', 'curr_stud_impact',\n",
    "       'work_exp_impact', 'other_impact', 'degree', 'tech_job_motive',\n",
    "       'bach_motive', 'hs_cred_motive', 'career_adv_motive',\n",
    "       'career_change_motive', 'prof_dev_motive', 'job_displacement_motive',\n",
    "       'relo_motive', 'keep_curr_motive', 'it_cert_motive', 'financial_motive',\n",
    "       'pers_enrich_motive', 'heard_from_counselor', 'heard_from_teacher',\n",
    "       'heard_from_it_site', 'heard_from_admissions', 'heard_from_advisor',\n",
    "       'heard_from_employer', 'heard_from_ccm_wfd', 'heard_from_nj_wfd',\n",
    "       'heard_from_other', 'deg_before_it', 'gender', 'ethnicity', 'age']]"
   ]
  },
  {
   "cell_type": "code",
   "execution_count": null,
   "id": "c59d4285-1a20-4ee0-82b3-b397fc5eee98",
   "metadata": {},
   "outputs": [],
   "source": [
    "df2 #dataset only containing our desired columns with abbreviated column names"
   ]
  },
  {
   "cell_type": "markdown",
   "id": "d895eae3-518a-4a3e-aede-016cd42dedca",
   "metadata": {},
   "source": [
    "#### We can run the same descriptive functions to see how the dataframe has changed."
   ]
  },
  {
   "cell_type": "code",
   "execution_count": null,
   "id": "2f53f2de-9ddf-4157-bdf8-aeca6d58a85c",
   "metadata": {},
   "outputs": [],
   "source": [
    "df2.columns"
   ]
  },
  {
   "cell_type": "code",
   "execution_count": null,
   "id": "1fd053f5-8c44-4284-bde6-f6ba3e118d65",
   "metadata": {},
   "outputs": [],
   "source": [
    "df2.shape"
   ]
  },
  {
   "cell_type": "code",
   "execution_count": null,
   "id": "f1a78b2b-2912-4472-a9ff-9fe504a2985b",
   "metadata": {},
   "outputs": [],
   "source": [
    "df2.info()"
   ]
  },
  {
   "cell_type": "code",
   "execution_count": null,
   "id": "e0c78d14-c71e-4b0c-bcdf-49224e7a1a01",
   "metadata": {},
   "outputs": [],
   "source": [
    "df2.head()"
   ]
  },
  {
   "cell_type": "markdown",
   "id": "d552a99f-cae6-4fef-9da4-6ac24446e436",
   "metadata": {},
   "source": [
    "#### We can now rewrite our cleaned dataset back to a new .csv file."
   ]
  },
  {
   "cell_type": "code",
   "execution_count": null,
   "id": "69e83be5-d9e0-49e9-b74d-a64ed6a678d4",
   "metadata": {},
   "outputs": [],
   "source": [
    "df2.to_csv('CLEANED Majors Survey Results - Fall 2024.csv' ,index=False)"
   ]
  },
  {
   "cell_type": "code",
   "execution_count": null,
   "id": "c1a7ffa5-d733-4758-8aa0-4c347066283e",
   "metadata": {},
   "outputs": [],
   "source": []
  }
 ],
 "metadata": {
  "kernelspec": {
   "display_name": "Python 3 (ipykernel)",
   "language": "python",
   "name": "python3"
  },
  "language_info": {
   "codemirror_mode": {
    "name": "ipython",
    "version": 3
   },
   "file_extension": ".py",
   "mimetype": "text/x-python",
   "name": "python",
   "nbconvert_exporter": "python",
   "pygments_lexer": "ipython3",
   "version": "3.12.3"
  }
 },
 "nbformat": 4,
 "nbformat_minor": 5
}
