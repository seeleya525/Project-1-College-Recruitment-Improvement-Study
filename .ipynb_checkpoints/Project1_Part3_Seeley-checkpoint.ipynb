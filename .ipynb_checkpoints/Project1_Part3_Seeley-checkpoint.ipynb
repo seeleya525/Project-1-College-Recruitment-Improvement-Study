{
 "cells": [
  {
   "cell_type": "markdown",
   "id": "24823dcd-da3f-42b3-80c6-eeb9389ea4fb",
   "metadata": {},
   "source": [
    "### Andrew Seeley\n",
    "### Oct. 16, 2024\n",
    "#### Professor Nancy Binowski\n",
    "#### Project 1, Part 3: Data Analysis & Visualization\n",
    "This project is intended to practice visualizing, exploring, and cleaning datasets with the IT Department's survey results. Part 3 uses the cleaned dataset to produce data visualizations about the survey results, which can then be used to make recommendations for future IT department recruitment efforts."
   ]
  },
  {
   "cell_type": "markdown",
   "id": "54115c08-e5e1-40f3-b5ef-b4a65b15cc9b",
   "metadata": {},
   "source": [
    "### First, we need to import pandas and the cleaned dataset. We can use exploratory functions to review it's features."
   ]
  },
  {
   "cell_type": "code",
   "execution_count": null,
   "id": "da1e0008-8ace-479f-ae89-d19802820394",
   "metadata": {},
   "outputs": [],
   "source": [
    "import pandas as pd\n",
    "datafile = \"CLEANED Majors Survey Results - Fall 2024.csv\"\n",
    "surveys = pd.read_csv(datafile)"
   ]
  },
  {
   "cell_type": "code",
   "execution_count": null,
   "id": "5370c8a1-ef70-4717-a645-b89427f4334a",
   "metadata": {},
   "outputs": [],
   "source": [
    "surveys.info()"
   ]
  },
  {
   "cell_type": "code",
   "execution_count": null,
   "id": "64ea6bd8-c1d0-45bf-b94b-2beab0463997",
   "metadata": {},
   "outputs": [],
   "source": [
    "surveys.shape"
   ]
  },
  {
   "cell_type": "code",
   "execution_count": null,
   "id": "d5cd5f85-952d-4b9d-b5fb-0cf19edac773",
   "metadata": {},
   "outputs": [],
   "source": [
    "surveys.columns"
   ]
  },
  {
   "cell_type": "code",
   "execution_count": null,
   "id": "206c00fb-72e7-427e-8094-b20956c1ac25",
   "metadata": {},
   "outputs": [],
   "source": [
    "surveys.head()"
   ]
  },
  {
   "cell_type": "code",
   "execution_count": null,
   "id": "d08f6beb-5242-41f7-ba66-0a754412b5b3",
   "metadata": {},
   "outputs": [],
   "source": [
    "surveys.tail()"
   ]
  },
  {
   "cell_type": "markdown",
   "id": "efc41a2a-05bc-4375-9203-fe6b9bc146de",
   "metadata": {},
   "source": [
    "### Now that we've reviewed the data, we can start answering some questions about it. We'll need to import the matplotlib package to create some plots."
   ]
  },
  {
   "cell_type": "code",
   "execution_count": null,
   "id": "10771322-4843-4d76-bd7f-18567771fa80",
   "metadata": {},
   "outputs": [],
   "source": [
    "import matplotlib.pyplot as plot"
   ]
  },
  {
   "cell_type": "markdown",
   "id": "985b9d15-63aa-4a24-8e09-fb5664010767",
   "metadata": {},
   "source": [
    "### ~~~~~~~~~~~~~~~~~~~~~~~~~~~~~~~~~~~~~~~~~~~~~~~~~~~~~~~~~~~~~~~~~~~~~~\n",
    "### Question 1: What are the major motivations why computing majors seek a computing degree/certificate?"
   ]
  },
  {
   "cell_type": "markdown",
   "id": "8d2f7e53-538f-455f-93c6-ec8a3621bc4a",
   "metadata": {},
   "source": [
    "To start, we'll have to rule out any rows where the degree is not a computing major (Computer Science, IT, Game Dev, Digital Media Technology, Technical Studies, Information Security, Data Analytics and Web Development). Then we can make a subset of only the motivation columns."
   ]
  },
  {
   "cell_type": "code",
   "execution_count": null,
   "id": "80085a36-8d47-48d9-9c7d-dadb9d7688e8",
   "metadata": {},
   "outputs": [],
   "source": [
    "surveys.degree.unique() #Find all unique degrees to determine which ones are IT and should be included"
   ]
  },
  {
   "cell_type": "code",
   "execution_count": null,
   "id": "7dc7d064-bed5-4a3d-b3ae-fe290b49af3c",
   "metadata": {},
   "outputs": [],
   "source": [
    "it_degrees = ['Game Development', 'Computer Science', 'Information Security Certificate of Achievement', 'Information Technology', 'Cybersecurity', \n",
    "              'Data Science', 'Data Analytics Certificate of Achievement', 'Web Development Certificate of Achievement']"
   ]
  },
  {
   "cell_type": "code",
   "execution_count": null,
   "id": "e806e254-d45f-4cf5-969e-20a083c9f74b",
   "metadata": {},
   "outputs": [],
   "source": [
    "itmajors = surveys[surveys['degree'].isin(it_degrees)]"
   ]
  },
  {
   "cell_type": "code",
   "execution_count": null,
   "id": "7cfab7ca-9a88-456a-8ee4-1663d7156100",
   "metadata": {},
   "outputs": [],
   "source": [
    "motivators = itmajors[['tech_job_motive', # Create a new dataframe only containing the motivator columns\n",
    "       'bach_motive', 'hs_cred_motive', 'career_adv_motive',\n",
    "       'career_change_motive', 'prof_dev_motive', 'job_displacement_motive',\n",
    "       'relo_motive', 'keep_curr_motive', 'it_cert_motive', 'financial_motive',\n",
    "       'pers_enrich_motive']]"
   ]
  },
  {
   "cell_type": "markdown",
   "id": "2dccb55b-a734-411b-b938-94f7a5c0ad08",
   "metadata": {},
   "source": [
    "We can double check the subsetted data to make sure it only contains the motivation columns, and only for IT department major"
   ]
  },
  {
   "cell_type": "code",
   "execution_count": null,
   "id": "e05157e7-8761-4633-adfc-65accd1d4de7",
   "metadata": {},
   "outputs": [],
   "source": [
    "motivators.columns"
   ]
  },
  {
   "cell_type": "markdown",
   "id": "b81b1991-65d1-42cd-b7e7-7d918d7651a2",
   "metadata": {},
   "source": [
    "Lastly, let's determine how many students responded yes for each motivation."
   ]
  },
  {
   "cell_type": "code",
   "execution_count": null,
   "id": "f18b2e08-4cfb-4796-a12f-d14b263f0a66",
   "metadata": {},
   "outputs": [],
   "source": [
    "mot_yes_counts = motivators.apply(pd.Series.value_counts).loc['Yes'] #This counts the number of 'Yes' responses for each column and saves them in a series.\n",
    "mot_yes_counts /= len(motivators) / 100 #Convert the counts to a percentage"
   ]
  },
  {
   "cell_type": "code",
   "execution_count": null,
   "id": "2cbe197f-32c3-4a28-aafd-f121c00ec533",
   "metadata": {},
   "outputs": [],
   "source": [
    "sorted_mot_yes = mot_yes_counts.sort_values(ascending = True) #We can sort the series of yes counts in each column in ascending order.\n",
    "sorted_mot_yes "
   ]
  },
  {
   "cell_type": "markdown",
   "id": "73403a22-00eb-4268-876a-2dd20960957e",
   "metadata": {},
   "source": [
    "Now the data is ready to create some plots. Let's make a bar chart, where the x axis is the motivations and the y axis is the percentage of computing students who responded 'Yes' to having those motivations."
   ]
  },
  {
   "cell_type": "code",
   "execution_count": null,
   "id": "7ca51d38-0c67-4fbc-9337-536b078b4ee0",
   "metadata": {},
   "outputs": [],
   "source": [
    "colors = ['red']*3 + ['#eaeaea']*6 + ['green']*3\n",
    "sorted_mot_yes.plot(kind='barh', color=colors)\n",
    "plot.title('Motivations for Computing Majors Seeking an IT Degree/Certificate')\n",
    "plot.xlabel('% of Students')\n",
    "plot.ylabel('Motivation')"
   ]
  },
  {
   "cell_type": "markdown",
   "id": "3919df0a-9b1d-417f-ba0f-c1323328d1c9",
   "metadata": {},
   "source": [
    "#### Conclusions: The top 3 motivators for CCM computing majors to seek an IT degree or certificate are landing a tech job, pursuing a Bachelor's degree, and personal enrichment. 3 of the bottom 4 motivators are related to major life changes, such as changing jobs or relocation."
   ]
  },
  {
   "cell_type": "markdown",
   "id": "9ff289be-33a5-403c-83c6-79471ca86634",
   "metadata": {},
   "source": [
    "#### Recommendations: It may help to advertise how CCM's programs and services would support someone going through difficult life changes, increasing the motivation for those needing a fresh start to register in CCM's IT department. Older demographics are more likely to face these challenges, so recruitment efforts should be targeted toward the older audience. Young college age students are already motivated by the idea of landing a tech job or a Bachelor's degree - therefore they don't seem to need anymore motivation from the college."
   ]
  },
  {
   "cell_type": "markdown",
   "id": "7fbea040-b69e-4031-b252-3c0d20c581bc",
   "metadata": {},
   "source": [
    "### ~~~~~~~~~~~~~~~~~~~~~~~~~~~~~~~~~~~~~~~~~~~~~~~~~~~~~~~~~~~~~~~~~~\n",
    "### Question 2: What activities/experiences are most effective at persuading students to take a computing class?"
   ]
  },
  {
   "cell_type": "markdown",
   "id": "6955c0da-584c-48c6-9260-46c28c727910",
   "metadata": {},
   "source": [
    "We can use similar strategies from question 1 to subset our data. We'll have to isolate the columns pertaining to activities/experiences, than determine how many students responded 'Yes' for each column."
   ]
  },
  {
   "cell_type": "code",
   "execution_count": null,
   "id": "9db860e7-86d1-4115-9663-79afb8a031f4",
   "metadata": {},
   "outputs": [],
   "source": [
    "surveys.columns "
   ]
  },
  {
   "cell_type": "code",
   "execution_count": null,
   "id": "37e8b54e-1a76-42f8-be43-c8c392632121",
   "metadata": {},
   "outputs": [],
   "source": [
    "activities = surveys[['open_house', 'inst_dec_day', 'campus_info_ses', 'virt_info_ses',\n",
    "       'women_who_dare', 'college_fair', 'hs_sharetime', 'challenger',\n",
    "       'cybersec_info_prot_prog', 'hs_info_ses', 'hs_campus_visit',\n",
    "       'indiv_campus_visit', 'wfd_class', 'corp_training', 'teen_arts',\n",
    "       'ccm_summer_camp']]"
   ]
  },
  {
   "cell_type": "code",
   "execution_count": null,
   "id": "391c4a78-0c24-48a3-90f8-53abcc9ca992",
   "metadata": {},
   "outputs": [],
   "source": [
    "act_yes_counts = activities.apply(pd.Series.value_counts).loc['Yes'] #This counts the number of 'Yes' responses for each column and saves them in a series.\n",
    "act_yes_counts /= len(activities) / 100 #Convert the counts to a percentage"
   ]
  },
  {
   "cell_type": "code",
   "execution_count": null,
   "id": "f0f111aa-6388-45db-9261-3f60ae61ca48",
   "metadata": {},
   "outputs": [],
   "source": [
    "sorted_act_yes = act_yes_counts.sort_values(ascending = True) #We can sort the series of yes counts in each column in ascending order.\n",
    "sorted_act_yes "
   ]
  },
  {
   "cell_type": "markdown",
   "id": "cc71e674-b8ac-4e77-9400-8195fd65ac73",
   "metadata": {},
   "source": [
    "We can make a similar plot as question 1, with each activity plotted against the percentage of students who said they were influenced to take a computing class by said activity."
   ]
  },
  {
   "cell_type": "code",
   "execution_count": null,
   "id": "481ddf55-1ab3-48ec-bc87-c4c2aabbbfd9",
   "metadata": {},
   "outputs": [],
   "source": [
    "colors = ['#eaeaea']*12 + ['green']*4\n",
    "sorted_act_yes.plot(kind='barh', color=colors)\n",
    "plot.title('What Activities/Experiences Influence Students to take a Computing Class?')\n",
    "plot.xlabel('% of Students Influenced')\n",
    "plot.ylabel('Activity')"
   ]
  },
  {
   "cell_type": "markdown",
   "id": "89ad1012-da38-43d4-b321-cb448839ef14",
   "metadata": {},
   "source": [
    "#### Conclusions: No one activity seems to impact more than 20-25% of current students. The most influential experiences are campus visits, information sessions, and open houses."
   ]
  },
  {
   "cell_type": "markdown",
   "id": "a755d924-51a7-4fb1-b1bb-d8c6ad5c405c",
   "metadata": {},
   "source": [
    "#### Recommendations: It seems wise to focus recruitment efforts in high schools, where most prospective students would be, as well as continuing to improve the quality of information sessions and open houses. These avenues far outperform the less popular activities, though efforts should be made to spread awareness and participation to a higher precentage of students throughout."
   ]
  },
  {
   "cell_type": "markdown",
   "id": "48aa2665-de16-4024-bf95-5983422a33eb",
   "metadata": {},
   "source": [
    "### ~~~~~~~~~~~~~~~~~~~~~~~~~~~~~~~~~~~~~~~~~~~~~~~~~~~~~~~~~~~~~\n",
    "### Question 3: Where do most students get information about the IT department?"
   ]
  },
  {
   "cell_type": "markdown",
   "id": "16f7a080-3475-41dc-8482-8e65762629cd",
   "metadata": {},
   "source": [
    "The set up here is once again similar to questions 1 and 2. We can subset out the columns based on experiences, then determine how many students answered 'Yes', that they were influenced by said activity to take a computing class."
   ]
  },
  {
   "cell_type": "code",
   "execution_count": null,
   "id": "77b634da-7d68-449e-a1c2-5a64388815db",
   "metadata": {},
   "outputs": [],
   "source": [
    "surveys.columns"
   ]
  },
  {
   "cell_type": "code",
   "execution_count": null,
   "id": "b46b24ba-f61a-45c2-922a-ae6d2dc8642d",
   "metadata": {},
   "outputs": [],
   "source": [
    "info = surveys[['heard_from_counselor', 'heard_from_teacher',\n",
    "       'heard_from_it_site', 'heard_from_admissions', 'heard_from_advisor',\n",
    "       'heard_from_employer', 'heard_from_ccm_wfd', 'heard_from_nj_wfd',\n",
    "       'heard_from_other']]"
   ]
  },
  {
   "cell_type": "code",
   "execution_count": null,
   "id": "6ff33a53-1090-4b2b-9cde-65ffc8e0835f",
   "metadata": {},
   "outputs": [],
   "source": [
    "info_yes_counts = info.apply(pd.Series.value_counts).loc['Yes'] #This counts the number of 'Yes' responses for each column and saves them in a series.\n",
    "info_yes_counts /= len(info) / 100 #Convert the counts to a percentage"
   ]
  },
  {
   "cell_type": "code",
   "execution_count": null,
   "id": "9e0986e5-9106-4952-a553-54e2b224a4a3",
   "metadata": {},
   "outputs": [],
   "source": [
    "sorted_info_yes = info_yes_counts.sort_values(ascending = True) #We can sort the series of yes counts in each column in ascending order.\n",
    "sorted_info_yes "
   ]
  },
  {
   "cell_type": "markdown",
   "id": "95a45b5e-60ff-4ed6-a40f-b59439f92164",
   "metadata": {},
   "source": [
    "Again, we can use a bar chart to visualize which information sources reach the most students."
   ]
  },
  {
   "cell_type": "code",
   "execution_count": null,
   "id": "085a785f-3f2b-4e8b-aa1a-a7e6e9e798c5",
   "metadata": {},
   "outputs": [],
   "source": [
    "colors = ['red']*3 + ['#eaeaea']*3 + ['green']*3\n",
    "sorted_info_yes.plot(kind='barh', color=colors)\n",
    "plot.title('Where Students get Information About the CCM IT Department')\n",
    "plot.xlabel('% of Students Reached')\n",
    "plot.ylabel('Info Source')"
   ]
  },
  {
   "cell_type": "markdown",
   "id": "5cd819fb-8318-47ef-8f10-e73c2ca9d131",
   "metadata": {},
   "source": [
    "#### Conclusions: College information sources reach the most students, followed by high school information sources. Very few students get information about CCM's IT department through workforce development programs or employers."
   ]
  },
  {
   "cell_type": "markdown",
   "id": "3bcd83ab-5dae-41e4-b32d-b73e6eeb4327",
   "metadata": {},
   "source": [
    "#### Recommendations: Continue to provide information through college services and the IT website, as it seems to be where most students go to learn more. Look into the workforce development program for opportunities to make information more available."
   ]
  },
  {
   "cell_type": "markdown",
   "id": "af3993be-d272-4c79-9e81-eedb3adf16a2",
   "metadata": {},
   "source": [
    "### ~~~~~~~~~~~~~~~~~~~~~~~~~~~~~~~~~~~~~~~~~~~~~~~~~~~~~~~~~~~~~~~~~~\n",
    "### Question 4: Among students who changed their original major to a computing degree, what were the most common motivators that made them choose a computing degree instead? Does looking at only those who switched majors make a difference?"
   ]
  },
  {
   "cell_type": "markdown",
   "id": "0dfcb6dc-0b07-42b8-be75-dfb69e8b5074",
   "metadata": {},
   "source": [
    "We already have a subset of the computing majors from question 1. Our first step is to filter out any rows where a computing major was their first choice, or they switched from one computing major to another. At the end, we'll only have the computing majors that switched from a non-computing major."
   ]
  },
  {
   "cell_type": "code",
   "execution_count": null,
   "id": "deee4d6f-e7cc-44ca-9a94-f69eb335a8fe",
   "metadata": {},
   "outputs": [],
   "source": [
    "itmajors.deg_before_it.unique() #Find all variations in the previous degree column that will need to be filtered out"
   ]
  },
  {
   "cell_type": "code",
   "execution_count": null,
   "id": "825c2d96-e2df-4f17-af01-34c11fef56b1",
   "metadata": {},
   "outputs": [],
   "source": [
    "#Add any new variations of 'First Choice' or IT majors to the list of what will NOT be included\n",
    "it_degrees += ['First Choice', 'Data Analytics and Statistics', 'Computer science', 'I did not change to any other major.', \"Major didn't change\"] "
   ]
  },
  {
   "cell_type": "code",
   "execution_count": null,
   "id": "15b0c36e-bbc4-47fc-809d-012f0da49da9",
   "metadata": {},
   "outputs": [],
   "source": [
    "#Subset of those whose previous degree was not IT\n",
    "switched = itmajors[~itmajors['deg_before_it'].isin(it_degrees)]"
   ]
  },
  {
   "cell_type": "code",
   "execution_count": null,
   "id": "ee9f7e69-1114-4757-b5e1-eefd433d3ae4",
   "metadata": {},
   "outputs": [],
   "source": [
    "switched"
   ]
  },
  {
   "cell_type": "markdown",
   "id": "1c7b0d7f-49fb-4c34-a76d-0aca7e8fc1d4",
   "metadata": {},
   "source": [
    "Now that we have the proper subset of majors, we can isolate the columns for just the motivations and determine which were the most influential."
   ]
  },
  {
   "cell_type": "code",
   "execution_count": 352,
   "id": "182f5e59-e67a-42ae-b1a0-e007851436e1",
   "metadata": {},
   "outputs": [],
   "source": [
    "# Create a new subset only containing the motivator columns\n",
    "switch_mot = switched[['tech_job_motive', \n",
    "       'bach_motive', 'hs_cred_motive', 'career_adv_motive',\n",
    "       'career_change_motive', 'prof_dev_motive', 'job_displacement_motive',\n",
    "       'relo_motive', 'keep_curr_motive', 'it_cert_motive', 'financial_motive',\n",
    "       'pers_enrich_motive']]"
   ]
  },
  {
   "cell_type": "code",
   "execution_count": 356,
   "id": "3dbc9b86-7093-4ff6-ab00-3d79590c3a2d",
   "metadata": {},
   "outputs": [],
   "source": [
    "switch_yes_counts = switch_mot.apply(pd.Series.value_counts).loc['Yes'] #This counts the number of 'Yes' responses for each column and saves them in a series.\n",
    "switch_yes_counts /= len(switch_mot) / 100 #Convert the counts to a percentage"
   ]
  },
  {
   "cell_type": "code",
   "execution_count": 358,
   "id": "9f427e1c-b651-4b9f-b75c-e109ad9e350e",
   "metadata": {},
   "outputs": [
    {
     "data": {
      "text/plain": [
       "job_displacement_motive     4.545455\n",
       "relo_motive                 4.545455\n",
       "hs_cred_motive             11.363636\n",
       "career_change_motive       31.818182\n",
       "keep_curr_motive           34.090909\n",
       "it_cert_motive             36.363636\n",
       "financial_motive           38.636364\n",
       "prof_dev_motive            45.454545\n",
       "pers_enrich_motive         47.727273\n",
       "career_adv_motive          50.000000\n",
       "bach_motive                59.090909\n",
       "tech_job_motive            72.727273\n",
       "Name: Yes, dtype: float64"
      ]
     },
     "execution_count": 358,
     "metadata": {},
     "output_type": "execute_result"
    }
   ],
   "source": [
    "sorted_switch_yes = switch_yes_counts.sort_values(ascending = True) #We can sort the series of yes counts in each column in ascending order.\n",
    "sorted_switch_yes "
   ]
  },
  {
   "cell_type": "markdown",
   "id": "8d49e29e-8e58-459a-8ad8-be9c29cc4de4",
   "metadata": {},
   "source": [
    "And now we're ready to plot, using the same techniques as before."
   ]
  },
  {
   "cell_type": "code",
   "execution_count": 360,
   "id": "06b4f6b6-5eb1-47ab-9927-52cd270f3e73",
   "metadata": {},
   "outputs": [
    {
     "data": {
      "text/plain": [
       "Text(0, 0.5, 'Motivation')"
      ]
     },
     "execution_count": 360,
     "metadata": {},
     "output_type": "execute_result"
    },
    {
     "data": {
      "image/png": "[encoded data removed]",
      "text/plain": [
       "<Figure size 640x480 with 1 Axes>"
      ]
     },
     "metadata": {},
     "output_type": "display_data"
    }
   ],
   "source": [
    "colors = ['red']*3 + ['#eaeaea']*6 + ['green']*3\n",
    "sorted_switch_yes.plot(kind='barh', color=colors)\n",
    "plot.title('Top Motivations for Switching to a Computing Major')\n",
    "plot.xlabel('% of Students')\n",
    "plot.ylabel('Motivation')"
   ]
  },
  {
   "cell_type": "markdown",
   "id": "09693a6c-0c80-4555-91c8-e09238edab87",
   "metadata": {},
   "source": [
    "Let's also bring back our plot from question 1, to compare the motivations of all students with those who specificallt switched to an IT major from a non-IT major:"
   ]
  },
  {
   "cell_type": "code",
   "execution_count": 364,
   "id": "dc54117b-49ce-4959-b736-61e8f0736c87",
   "metadata": {},
   "outputs": [
    {
     "data": {
      "text/plain": [
       "Text(0, 0.5, 'Motivation')"
      ]
     },
     "execution_count": 364,
     "metadata": {},
     "output_type": "execute_result"
    },
    {
     "data": {
      "image/png": "[encoded data removed]",
      "text/plain": [
       "<Figure size 640x480 with 1 Axes>"
      ]
     },
     "metadata": {},
     "output_type": "display_data"
    }
   ],
   "source": [
    "colors = ['red']*3 + ['#eaeaea']*6 + ['green']*3\n",
    "sorted_mot_yes.plot(kind='barh', color=colors)\n",
    "plot.title('Motivations for Computing Majors Seeking an IT Degree/Certificate')\n",
    "plot.xlabel('% of Students')\n",
    "plot.ylabel('Motivation')"
   ]
  },
  {
   "cell_type": "markdown",
   "id": "42227028-ee73-4475-add4-fa50bb6d749f",
   "metadata": {},
   "source": [
    "#### Conclusions: Although there are slight variations, the motivations remain largely the same for most computing majors, whether an IT major was their first choice or not. Most of our computing majors are motivated to get a tech job, earn a Bachelor's degree, or pursue personal enrichment."
   ]
  },
  {
   "cell_type": "markdown",
   "id": "ce005cdc-9518-4bb1-9611-fce8acfc0092",
   "metadata": {},
   "source": [
    "#### Recommendations: Continue to advertise in all areas of the campus so all students see the benefits of joining the IT department, regardless of their current major. Since most students choose computing majors for the same reasons, emphasize their job prospects and available transfer programs."
   ]
  },
  {
   "cell_type": "code",
   "execution_count": null,
   "id": "22802e46-d89e-45ed-9f2c-4d1f9b1e5f79",
   "metadata": {},
   "outputs": [],
   "source": []
  }
 ],
 "metadata": {
  "kernelspec": {
   "display_name": "Python 3 (ipykernel)",
   "language": "python",
   "name": "python3"
  },
  "language_info": {
   "codemirror_mode": {
    "name": "ipython",
    "version": 3
   },
   "file_extension": ".py",
   "mimetype": "text/x-python",
   "name": "python",
   "nbconvert_exporter": "python",
   "pygments_lexer": "ipython3",
   "version": "3.12.3"
  }
 },
 "nbformat": 4,
 "nbformat_minor": 5
}
